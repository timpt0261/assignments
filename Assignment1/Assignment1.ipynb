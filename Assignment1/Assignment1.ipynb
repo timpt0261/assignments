{
 "cells": [
  {
   "cell_type": "markdown",
   "metadata": {
    "id": "GWCPCDvGW_cm"
   },
   "source": [
    "# Assignment 1\n",
    "\n",
    "\n",
    "You must submit your notebook by running `python3 -m autograder.cli.submission.submit Assignment1.ipynb` from your local repository.\n",
    "\n",
    "To write legible answers you will need to be familiar with both [Markdown](https://github.com/adam-p/markdown-here/wiki/Markdown-Cheatsheet) and [Latex](https://www.latex-tutorial.com/tutorials/amsmath/)\n",
    "\n",
    "Before you turn this problem in, make sure everything runs as expected. To do so, restart the kernel and run all cells (in the menubar, select Runtime→→Restart and run all).\n",
    "\n",
    "#### Show your work!\n",
    "Whenever you are asked to find the solution to a problem, be sure to also **show how you arrived** at your answer.\n",
    "\n",
    "Make sure you fill in any place that says \"YOUR CODE HERE\" or \"YOUR ANSWERS HERE\", as well as your name below:\n"
   ]
  },
  {
   "cell_type": "markdown",
   "metadata": {
    "id": "Hc-OUgRxWIPM"
   },
   "source": [
    "## Q1\n",
    "\n",
    "![figure](https://docs.google.com/drawings/d/e/2PACX-1vR3cNeZWfHNbPXRGyZrKazhI2WNM9wroJoAsshbD7LzwEBd4k0W_zu-T30_O_4iHC2qpKRxCRBA1IjV/pub?w=480&h=320)\n",
    "\n",
    "Which solution would the following search algorithms find to move from node *Start* to node *Goal* if run the algorithm on the search graph above? Break any ties alphabetically. Please give each answer in a form similar to this example: `[start, 'a', 'd', goal]`\n",
    "\n",
    "a. Breadth-First Search\n",
    "\n",
    "b. Depth-First Search\n",
    "\n",
    "c. Uniform Cost Search\n",
    "\n",
    "Explain by drawing an equivalent search tree for each of them. Draw the search trees graphically. A good way to do this is through [Google Drawings](https://docs.google.com/drawings)\n",
    "\n"
   ]
  },
  {
   "cell_type": "markdown",
   "metadata": {},
   "source": [
    "<img src=\"../Assignment1/img/q1demonstration.jpg\" width=400 height=500><img>"
   ]
  },
  {
   "cell_type": "code",
   "execution_count": 1,
   "metadata": {},
   "outputs": [],
   "source": [
    "# YOUR ANSWERS HERE\n",
    "def question1():\n",
    "    \"\"\"\n",
    "    Description:\n",
    "    [Enter a description of your reasoning for each of a through c here.]\n",
    "    1.a. Using Bredth First Search the Fringe follows FIFO, the algorthim would first expand the start node to enqueue children nodes a and d. \n",
    "        Afterards it would expand a and enqueue node b to the fringe. \n",
    "        Next it would expand node d to enqueue the goal node. \n",
    "        Next it would expand node b to enque node c and the goal.\n",
    "        The fringe reaches the goal node so we get (start->d->goal)\n",
    "         \n",
    "     1.b. Using Depth First Search the algorthim priortizes exploring the deepest node first throught a LIFO fringe. \n",
    "        As the fringe enqueues node d then node a, it will pop out a and explore it path before node d.\n",
    "        Where it will then enque then expand node b.\n",
    "        At node b it will explore it left side, node c before the goal nodes.\n",
    "        Lastly from node c we find the goal finishing the programs execution.\n",
    "         \n",
    "    1.c. Using Uniform Cost Search the Fringe find the cost optimal path.\n",
    "        At the start it would choose node a over node d becuase the cost of path is less.\n",
    "        From node a it would go b directly as it still cheaper than c(a->d)\n",
    "        From node b it would choose the node directly to the goal as c(start->a->b->goal) < c(start->b->c->goal) and c(b->goal) < c(start->d->goal)\n",
    "    \"\"\"\n",
    "    start = 'Start'\n",
    "    goal = 'Goal'\n",
    "    \n",
    "    a = [start, 'd', goal]\n",
    "    b = [start,'a', 'b','c',  goal]\n",
    "    c = [start, 'a', 'b', goal]\n",
    "    \n",
    "    return a, b, c"
   ]
  },
  {
   "cell_type": "markdown",
   "metadata": {
    "id": "2cCZFudXW_cp"
   },
   "source": [
    "## Q2\n",
    "Answer the following questions about the search problem shown in the figure below. Break any ties alphabetically. For the questions that ask for a path, please give your answers in a form similar to this example: `[start, 'a', 'd', goal]`. For questions `e` and `f`, please return either `True` or `False`.\n",
    "\n",
    "Start − a − d − Goal\n",
    "\n",
    "![figure](https://docs.google.com/drawings/d/e/2PACX-1vS4nUoOVGzXNZTHZLsY6wZ6VyjtPlA4mhcvWs-6mgwaeDwoMftqbYyytgBVmgOnqLoUGZbRt8cuQNfA/pub?w=640&h=480)\n",
    "\n",
    "What path would be returned for this search problem using each of the following graph search algorithms?\n",
    "\n",
    "a. Breadth-First Search\n",
    "\n",
    "b. Uniform Cost Search\n",
    "\n",
    "c. Depth-First Search\n",
    "\n",
    "d. A* Search (using an appropriate heuristic function). Explain what heuristc function you used.\n",
    "\n",
    "\n",
    "\n",
    "Consider the heuristics for this problem shown in the table below.\n",
    "\n",
    "|     State     |     h1     |     h2        |\n",
    "|---------------|------------|---------------|\n",
    "|     start     |     5      |     4         |\n",
    "|     a         |     3      |     2         |\n",
    "|     b         |     6      |     6         |\n",
    "|     c         |     2      |     1         |\n",
    "|     d         |     3      |     3         |\n",
    "|     goal      |     0      |     0         |\n",
    "\n",
    "\n",
    "e. Is h1 consistent?\n",
    "\n",
    "f. Is h2 consistent?"
   ]
  },
  {
   "cell_type": "code",
   "execution_count": 2,
   "metadata": {},
   "outputs": [],
   "source": [
    "# YOUR ANSWERS HERE\n",
    "def question2():\n",
    "    \"\"\"\n",
    "    Description:\n",
    "    [Enter a description of your reasoning for each of a through f here.]\n",
    "    1.a. Following BFS it uses a FIFO fringe. Meaning the fringe would first enqueue node a then the goal node. \n",
    "        Then it will expand node a and enqueue node b and node c. Afterwards where the fringe will reach the goal node and stop. \n",
    "        Getting a path from (start->goal)\n",
    "    1.b. Following UCS it would find the cheapest cost-optimal path. Meaning it would priortize the node a over the goal node first.\n",
    "        From node a it will then piortize exploring node c as it's the cheapest still\n",
    "        From node c it will first explore d as it the cheapest but then back track and explore b till we backtrack as we already found a cheaper path for d\n",
    "        Finally from c we reaach the goal witht the cheapest path\n",
    "        Stoping execution and finding path(start->a->c->goal)\n",
    "    1.c. Follwoing DFS the fringe follows LIFO where the deepest node is expanded first. After the star node is expanded the ques would have [goal, a],\n",
    "        Where node a will be expanded first till reaching the goal node.\n",
    "        In this case the path on the left of node a, giving us (start->a->b->d->goal)\n",
    "    1.d.Following A* and using h1 a heuristic, after the start node is expanded the goal node and the nodea are added to the fringe.\n",
    "        Since the fringe is a priorty queue it will priortize the goal node as h(goal) < h(a).\n",
    "        Thus stoping execution and giving us a path of (start->goal)\n",
    "    \n",
    "    1.e. It's false becuase the h(start) > c(start, a) + h(a), ie, 5 > 4\n",
    "    1.f. It's false becuase the h(start) > c(start, a) + h(a), ie, 4 > 3\n",
    "    \"\"\"\n",
    "    start = 'Start'\n",
    "    goal = 'Goal'\n",
    "       \n",
    "    a = [start, goal] \n",
    "    b = [start,'a', 'c', goal]\n",
    "    c = [start,'a', 'b', 'd', goal]\n",
    "    d = [start,'a', 'c', goal]\n",
    "    e = False\n",
    "    f = False\n",
    "    \n",
    "    return a, b, c, d, e, f"
   ]
  },
  {
   "cell_type": "markdown",
   "metadata": {
    "id": "_uecj_VM0l1a"
   },
   "source": [
    "## Chess \n",
    "The remaining questions in this assignment, as well as all the questions in the following assignment, will make use of Python's chess module.\n",
    "\n",
    "If you're not familiar with this, it would probably be beneficial to spend some time going over it before getting started with the rest of the assignment. The official documentation is one place to get started: `https://python-chess.readthedocs.io/en/latest/`\n"
   ]
  },
  {
   "cell_type": "markdown",
   "metadata": {},
   "source": [
    "## The Knight Errant Problem\n",
    "The knight begins their quest in the bottom left-hand corner of the board, the tile 'A1'. Their quest will end when they reach the upper right-hand corner of the board, the tile 'H8'. Along the way, the knight will pass through many other tiles on the board. \n",
    "\n",
    "For each of the following questions, implement the corresponding search algorithm and return the list of tiles visited, in order. In Python's chess module, each tile has an integer id corresponding to it, where `'A1' = 0`, `'A2' = 1`, etc, and they are really just treated as integers by the chess module. Each chess square is equivalent to a number ranging from `0` to `63`, going from left to right, one row at at a time.\n",
    "\n",
    "For example, the knight starting on tile `'A1' = 0` and moving through tiles `'A1' = 0`, `'B3' = 17`, and `'D2' = 11`, in that order, before finally reaching the destination `'F1' = 5` would be represented by the list `[0, 17, 11, 5]`. Please note, this conversion from `A1` to `0` happens automatically, so please just don't be confused if you added a chess Tile to your list and saw it as an integer when you print it out; it is really the same thing.\n",
    "\n",
    "As one final piece of advice, it is not necessary to invent any grand new functions here to help you interface with the chess board. If you have an idea for something and it seems like too much, there may very well be a built-in chess module function that can do it for you. Please have a look before diving in head-first.\n",
    "\n",
    "A function to check whether a given board meets the goal condition is provided here for you below:"
   ]
  },
  {
   "cell_type": "code",
   "execution_count": 3,
   "metadata": {},
   "outputs": [],
   "source": [
    "import chess\n",
    "\n",
    "def goal_reached(board: chess.Board, goal_position: chess.Square):\n",
    "    \"\"\"\n",
    "    This function informs us as to whether the goal condition has been met during our search\n",
    "\n",
    "    Parameters:\n",
    "    - board: the chess board that the knight is moving upon\n",
    "\n",
    "    Returns:\n",
    "    - True: if the knight is on the destination tile 'H8'\n",
    "    - False: otherwise\n",
    "    \"\"\"\n",
    "    p = board.piece_at(goal_position)\n",
    "    return p and p.piece_type == chess.KNIGHT and p.color == chess.WHITE"
   ]
  },
  {
   "cell_type": "markdown",
   "metadata": {},
   "source": [
    "## Q3\n",
    "Implement the **Breadth-First Search** (BFS) algorithm to find the order of **expanded** tiles (not the final path) for the the Knight Errant Problem.\n",
    "\n",
    "Break ties in the order given by `board.legal_moves`. Please give your answer in a form similar to this example: `[0, 31, 15, ..., 63]`"
   ]
  },
  {
   "cell_type": "code",
   "execution_count": 4,
   "metadata": {},
   "outputs": [],
   "source": [
    "from collections import deque\n",
    "def BFS(board: chess.Board, goal_position: chess.Square):\n",
    "    \"\"\"\n",
    "    This function implements the breath first search algorithm\n",
    "    \n",
    "    Parameters:\n",
    "    - board: the chess board that the knight is moving upon\n",
    "    \n",
    "    Returns:\n",
    "    A list containing the visited tile values in the order they were visited with starting tile\n",
    "    always being the first tile and the goal tile always being the last tile\n",
    "    \"\"\"\n",
    "    # FIFO\n",
    "    visited_nodes_in_order = [] \n",
    "    board_states = deque() # stores board states\n",
    "    explored = [False] * 64\n",
    "    start = chess.A1\n",
    "    board_states.append(board.copy())\n",
    "    visited_nodes_in_order.append(start)\n",
    "    explored[start] = True\n",
    "        \n",
    "    while board_states:\n",
    "        current_board = board_states.popleft()\n",
    "        if(len(current_board.move_stack)> 0):\n",
    "            visited_nodes_in_order.append(current_board.peek().to_square)\n",
    "        if(goal_reached(current_board, goal_position)): return visited_nodes_in_order\n",
    "        for move in current_board.legal_moves:\n",
    "            if(not explored[move.to_square]):\n",
    "                # Set square to be explore\n",
    "                explored[move.to_square] = True\n",
    "\n",
    "                new_board = current_board.copy()\n",
    "                new_board.push(move)\n",
    "                new_board.turn = chess.WHITE\n",
    "\n",
    "                board_states.append(new_board)\n",
    "    return visited_nodes_in_order\n"
   ]
  },
  {
   "cell_type": "code",
   "execution_count": 5,
   "metadata": {},
   "outputs": [
    {
     "name": "stdout",
     "output_type": "stream",
     "text": [
      ". . . . . . . .\n",
      ". . . . . . . .\n",
      ". . . . . . . .\n",
      ". . . . . . . .\n",
      ". . . . . . . .\n",
      ". . . . . . . .\n",
      ". . . . . . . .\n",
      "N . . . . . . .\n",
      "[0, 17]\n"
     ]
    }
   ],
   "source": [
    "test_board = chess.Board(\"8/8/8/8/8/8/8/N7\")\n",
    "test_goal = chess.B3\n",
    "print(test_board)\n",
    "\n",
    "q3 = BFS(test_board, test_goal)\n",
    "print(q3)"
   ]
  },
  {
   "cell_type": "markdown",
   "metadata": {},
   "source": [
    "## Q4\n",
    "Implement the **Depth-First Search** (DFS) algorithm to find the order of **expanded** tiles (not the final path) for the the Knight Errant Problem.\n",
    "\n",
    "Break ties in the order given by `board.legal_moves`. Please give your answer in a form similar to this example: `[0, 31, 15, ..., 63]`"
   ]
  },
  {
   "cell_type": "code",
   "execution_count": 6,
   "metadata": {},
   "outputs": [],
   "source": [
    "def DFS(board: chess.Board, goal_position: chess.Square):\n",
    "    \"\"\"\n",
    "    This function implements the depth first search algorithm\n",
    "    \n",
    "    Parameters:\n",
    "    - board: the chess board that the knight is moving upon\n",
    "    \n",
    "    Returns:\n",
    "    A list containing the visited tile values in the order they were visited with starting tile\n",
    "    always being the first tile and the goal tile always being the last tile\n",
    "    \"\"\"       \n",
    "\n",
    "    # LIFO\n",
    "    explored = [False] * 64\n",
    "    start = chess.A1\n",
    "    path = dfs_rec(board, start,goal_position, explored, [])\n",
    "    return path\n",
    "\n",
    "def dfs_rec(board:chess.Board(), current_position:chess.Square, goal:chess.Square, explore:list(), path:list()): # type: ignore\n",
    "        explore[current_position] = True\n",
    "        path.append(current_position)\n",
    "        \n",
    "        if(current_position == goal): \n",
    "            return path\n",
    "        for move in board.legal_moves:\n",
    "            if(not explore[move.to_square]):\n",
    "                # Set square to be explored\n",
    "                # Move knight to move\n",
    "                new_board = board.copy()\n",
    "                new_board.push(move)\n",
    "                new_board.turn = chess.WHITE\n",
    "                # Recurse for next neighbor\n",
    "                result_path = dfs_rec(new_board, move.to_square, goal, explore,path.copy())\n",
    "                if result_path:\n",
    "                    return result_path\n",
    "        return None"
   ]
  },
  {
   "cell_type": "code",
   "execution_count": 7,
   "metadata": {},
   "outputs": [
    {
     "name": "stdout",
     "output_type": "stream",
     "text": [
      ". . . . . . . .\n",
      ". . . . . . . .\n",
      ". . . . . . . .\n",
      ". . . . . . . .\n",
      ". . . . . . . .\n",
      ". . . . . . . .\n",
      ". . . . . . . .\n",
      "N . . . . . . .\n",
      "[0, 17, 34, 51, 61, 55, 45, 62, 52, 58, 48, 42, 59, 53, 63]\n"
     ]
    }
   ],
   "source": [
    "test_board = chess.Board(\"8/8/8/8/8/8/8/N7\")\n",
    "test_goal = chess.H8\n",
    "print(test_board)\n",
    "\n",
    "q4 = DFS(test_board, test_goal)\n",
    "print(q4)"
   ]
  },
  {
   "cell_type": "markdown",
   "metadata": {
    "id": "LM0yg5nnW_cx"
   },
   "source": [
    "## Q5\n",
    "Implement the **A* Search** (Textbook Section 3.5.2) algorithm to find the **final path found** for the Knight Errant Problem.\n",
    "\n",
    "#### A* Search\n",
    "---\n",
    "The most widely known form of best-first search is called **A∗ search** (pronounced \"A-star search\"). It evaluates nodes by combining $g(n)$, the cost to reach the node, and $h(n)$, the cost to get from the node to the goal:\n",
    "\n",
    "\\begin{equation*}\n",
    "f(n) = g(n) + h(n) .\n",
    "\\end{equation*}\n",
    "\n",
    "Since $g(n)$ gives the path cost from the start node to node $n$, and $h(n)$ is the estimated cost of the cheapest path from n to the goal, we have\n",
    "\n",
    "\n",
    "$f(n)$= estimated cost of the cheapest solution through $n$ .\n",
    "\n",
    "**NOTE:**\n",
    "- If two positions are considered equally good choices, take the node that appears first in board.legal_moves\n",
    "- You may also find the built-in function `chess.square_knight_distance(a, b)` useful here\n"
   ]
  },
  {
   "cell_type": "code",
   "execution_count": 8,
   "metadata": {},
   "outputs": [],
   "source": [
    "def a_star_search(board: chess.Board, goal_position: chess.Square):\n",
    "    \"\"\"\n",
    "    This function implements the A* search algorithm\n",
    "\n",
    "    Parameters:\n",
    "    - board: the chess board that the knight is moving upon\n",
    "\n",
    "    Returns:\n",
    "    A list containing the final path returned by A*, starting with the start tile's ID and ending with the goal tile's ID.\n",
    "    \"\"\"\n",
    "    def reconstruct_path(came_from, current):\n",
    "        total_path = [current]\n",
    "        while current in came_from and current != 0:\n",
    "            current = came_from[current]\n",
    "            total_path.append(current)\n",
    "        return total_path[::-1] \n",
    "      \n",
    "    def h(a: chess.Square, b: chess.Square):\n",
    "        return chess.square_knight_distance(a,b)\n",
    "    \n",
    "    start = chess.A1\n",
    "    priority_queue = []\n",
    "    priority_queue.append(start)\n",
    "    \n",
    "    came_from = dict()\n",
    "    cost_so_far = dict()\n",
    "    board_states = dict()\n",
    "    \n",
    "    came_from[start] = None\n",
    "    cost_so_far[start] = 0\n",
    "    board_states[start] = board.copy()\n",
    "    \n",
    "    while priority_queue:\n",
    "        priority = min(priority_queue)\n",
    "        priority_queue.remove(priority)\n",
    "        current_board = board_states.get(priority)\n",
    "        if(goal_reached(board=current_board, goal_position=goal_position)): \n",
    "           return reconstruct_path(came_from, goal_position);\n",
    "   \n",
    "        for move in current_board.legal_moves:\n",
    "            new_cost = cost_so_far[move.from_square] + 1\n",
    "            if(move.to_square not in cost_so_far or new_cost < cost_so_far[move.to_square]):\n",
    "                cost_so_far[move.to_square] = new_cost\n",
    "                w = 1.5\n",
    "                priority = new_cost + w * h(move.to_square, goal_position)\n",
    "                \n",
    "                new_board = current_board.copy()\n",
    "                new_board.push(move)\n",
    "                new_board.turn = chess.WHITE\n",
    "               \n",
    "                if(priority in board_states):\n",
    "                   continue\n",
    "                priority_queue.append(priority)\n",
    "                board_states[priority] = new_board\n",
    "                came_from[move.to_square] = move.from_square\n",
    "                \n",
    "               \n",
    "                \n",
    "    \n",
    "    return -1"
   ]
  },
  {
   "cell_type": "code",
   "execution_count": 10,
   "metadata": {},
   "outputs": [
    {
     "name": "stdout",
     "output_type": "stream",
     "text": [
      ". . . . . . . .\n",
      ". . . . . . . .\n",
      ". . . . . . . .\n",
      ". . . . . . . .\n",
      ". . . . . . . .\n",
      ". . . . . . . .\n",
      ". . . . . . . .\n",
      "N . . . . . . .\n",
      "[0, 17, 34, 51, 61, 46, 63]\n"
     ]
    }
   ],
   "source": [
    "test_board = chess.Board(\"8/8/8/8/8/8/8/N7\")\n",
    "test_goal = chess.H8\n",
    "print(test_board)\n",
    "\n",
    "q5 = a_star_search(test_board, test_goal)\n",
    "print(q5)\n",
    "# [0, 17, 34, 51, 61, 46, 63]\n"
   ]
  }
 ],
 "metadata": {
  "colab": {
   "collapsed_sections": [
    "Hc-OUgRxWIPM"
   ],
   "provenance": []
  },
  "kernelspec": {
   "display_name": "venv",
   "language": "python",
   "name": "python3"
  },
  "language_info": {
   "codemirror_mode": {
    "name": "ipython",
    "version": 3
   },
   "file_extension": ".py",
   "mimetype": "text/x-python",
   "name": "python",
   "nbconvert_exporter": "python",
   "pygments_lexer": "ipython3",
   "version": "3.11.3"
  }
 },
 "nbformat": 4,
 "nbformat_minor": 1
}
