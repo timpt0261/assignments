print('Done!')
print('f(%s) = %f' % (best, score))